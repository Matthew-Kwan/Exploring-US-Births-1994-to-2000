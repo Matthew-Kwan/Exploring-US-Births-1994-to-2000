{
 "cells": [
  {
   "cell_type": "markdown",
   "metadata": {},
   "source": [
    "# Exploring US Births from 1994 - 2000"
   ]
  },
  {
   "cell_type": "markdown",
   "metadata": {},
   "source": [
    "#### Imports needed for the project"
   ]
  },
  {
   "cell_type": "code",
   "execution_count": 4,
   "metadata": {
    "collapsed": true
   },
   "outputs": [],
   "source": [
    "import pprint #for prettier lists"
   ]
  },
  {
   "cell_type": "markdown",
   "metadata": {},
   "source": [
    "## Displaying first 10 elements of data split on every new line"
   ]
  },
  {
   "cell_type": "code",
   "execution_count": 5,
   "metadata": {},
   "outputs": [
    {
     "name": "stdout",
     "output_type": "stream",
     "text": [
      "year,month,date_of_month,day_of_week,births\n",
      "1994,1,1,6,8096\n",
      "1994,1,2,7,7772\n",
      "1994,1,3,1,10142\n",
      "1994,1,4,2,11248\n",
      "1994,1,5,3,11053\n",
      "1994,1,6,4,11406\n",
      "1994,1,7,5,11251\n",
      "1994,1,8,6,8653\n",
      "1994,1,9,7,7910\n"
     ]
    }
   ],
   "source": [
    "file = open(\"US_births_1994-2003_CDC_NCHS.csv\", \"r\")\n",
    "s = file.read()\n",
    "splitL = s.split(\"\\n\")\n",
    "\n",
    "print (\"\\n\".join(splitL[0:10])) #added new line to each list element to make it easier to read\n",
    "#I ended up adding pprint since the above wasn't working with integer values, need to figure out why"
   ]
  },
  {
   "cell_type": "markdown",
   "metadata": {},
   "source": [
    "## Converting fields within the list to integer values, and further splitting the list into a sectionable row"
   ]
  },
  {
   "cell_type": "code",
   "execution_count": 6,
   "metadata": {},
   "outputs": [
    {
     "name": "stdout",
     "output_type": "stream",
     "text": [
      "[[1994, 1, 1, 6, 8096],\n",
      " [1994, 1, 2, 7, 7772],\n",
      " [1994, 1, 3, 1, 10142],\n",
      " [1994, 1, 4, 2, 11248],\n",
      " [1994, 1, 5, 3, 11053],\n",
      " [1994, 1, 6, 4, 11406],\n",
      " [1994, 1, 7, 5, 11251],\n",
      " [1994, 1, 8, 6, 8653],\n",
      " [1994, 1, 9, 7, 7910],\n",
      " [1994, 1, 10, 1, 10498]]\n"
     ]
    }
   ],
   "source": [
    "def read_csv(str):\n",
    "    file = open(str,\"r\")\n",
    "    s = file.read()\n",
    "    string_list = s.split(\"\\n\")[1:]#had to put the range after the split, so it removes the first ROW\n",
    "    final_list = []\n",
    "    \n",
    "    for item in string_list:\n",
    "        int_fields = []\n",
    "        string_fields = item.split(',')\n",
    "        for i in string_fields:\n",
    "            int_fields.append(int(i))\n",
    "        final_list.append(int_fields) # had apostrophes here so it wasn't working\n",
    "    \n",
    "    return final_list\n",
    "\n",
    "cdc_list = read_csv(\"US_births_1994-2003_CDC_NCHS.csv\")\n",
    "pprint.pprint(cdc_list[0:10])"
   ]
  },
  {
   "cell_type": "markdown",
   "metadata": {},
   "source": [
    "## Total number of births in each month in the US from 1994-2000"
   ]
  },
  {
   "cell_type": "code",
   "execution_count": 7,
   "metadata": {},
   "outputs": [
    {
     "name": "stdout",
     "output_type": "stream",
     "text": [
      "{1: 3232517,\n",
      " 2: 3018140,\n",
      " 3: 3322069,\n",
      " 4: 3185314,\n",
      " 5: 3350907,\n",
      " 6: 3296530,\n",
      " 7: 3498783,\n",
      " 8: 3525858,\n",
      " 9: 3439698,\n",
      " 10: 3378814,\n",
      " 11: 3171647,\n",
      " 12: 3301860}\n"
     ]
    }
   ],
   "source": [
    "def month_births(list):\n",
    "    month_dict = {}\n",
    "    \n",
    "    for i in list:\n",
    "        month = i[1]\n",
    "        births = i[4]\n",
    "        if month in month_dict:\n",
    "            month_dict[month] = month_dict[month] + births #originally put 1 in month_dict[ __ ] so it wasn't working\n",
    "        else:\n",
    "            month_dict[month] = births\n",
    "            \n",
    "    return month_dict\n",
    "\n",
    "cdc_month_births = month_births(cdc_list)\n",
    "\n",
    "pprint.pprint(cdc_month_births)"
   ]
  },
  {
   "cell_type": "markdown",
   "metadata": {},
   "source": [
    "## Total number of births in each day of the week in the US from 1994-2000"
   ]
  },
  {
   "cell_type": "code",
   "execution_count": 8,
   "metadata": {},
   "outputs": [
    {
     "name": "stdout",
     "output_type": "stream",
     "text": [
      "{1: 5789166,\n",
      " 2: 6446196,\n",
      " 3: 6322855,\n",
      " 4: 6288429,\n",
      " 5: 6233657,\n",
      " 6: 4562111,\n",
      " 7: 4079723}\n"
     ]
    }
   ],
   "source": [
    "def dow_births(list):\n",
    "    dow_dict = {}\n",
    "    \n",
    "    for i in list:\n",
    "        day = i[3]\n",
    "        births = i[4]\n",
    "        if day in dow_dict:\n",
    "            dow_dict[day] = dow_dict[day] + births\n",
    "        else:\n",
    "            dow_dict[day] = births\n",
    "            \n",
    "    return dow_dict\n",
    "\n",
    "cdc_day_births = dow_births(cdc_list)\n",
    "\n",
    "pprint.pprint(cdc_day_births)"
   ]
  },
  {
   "cell_type": "markdown",
   "metadata": {},
   "source": [
    "## A function that takes in the data and the column you want to compare to births"
   ]
  },
  {
   "cell_type": "code",
   "execution_count": 9,
   "metadata": {},
   "outputs": [
    {
     "name": "stdout",
     "output_type": "stream",
     "text": [
      "1994\n",
      "1995\n",
      "1996\n",
      "1997\n",
      "1998\n",
      "1999\n",
      "2000\n",
      "2001\n",
      "2002\n",
      "2003\n"
     ]
    }
   ],
   "source": [
    "def calc_counts(data,col):\n",
    "    dict = {}\n",
    "    \n",
    "    for row in data:\n",
    "        c = row[col]\n",
    "        births = row[4]\n",
    "        \n",
    "        if c in dict:\n",
    "            dict[c] += births\n",
    "        \n",
    "        else:\n",
    "            dict[c] = births\n",
    "            \n",
    "    return dict\n",
    "\n",
    "cdc_year_births = calc_counts(cdc_list,0)\n",
    "cdc_month_births = calc_counts(cdc_list,1)\n",
    "cdc_dom_births = calc_counts(cdc_list,2)\n",
    "cdc_dow_births = calc_counts(cdc_list,3)\n",
    "\n",
    "for i in cdc_year_births:\n",
    "    print (i)"
   ]
  },
  {
   "cell_type": "markdown",
   "metadata": {},
   "source": [
    "## Returns the minimum and maximum value of a dictionary"
   ]
  },
  {
   "cell_type": "code",
   "execution_count": 10,
   "metadata": {},
   "outputs": [
    {
     "ename": "NameError",
     "evalue": "name 'minn' is not defined",
     "output_type": "error",
     "traceback": [
      "\u001b[1;31m---------------------------------------------------------------------------\u001b[0m",
      "\u001b[1;31mNameError\u001b[0m                                 Traceback (most recent call last)",
      "\u001b[1;32m<ipython-input-10-06e0c165fd31>\u001b[0m in \u001b[0;36m<module>\u001b[1;34m()\u001b[0m\n\u001b[0;32m     16\u001b[0m         \u001b[1;32mreturn\u001b[0m \u001b[0mval\u001b[0m\u001b[1;33m\u001b[0m\u001b[0m\n\u001b[0;32m     17\u001b[0m \u001b[1;33m\u001b[0m\u001b[0m\n\u001b[1;32m---> 18\u001b[1;33m \u001b[0mmaxer\u001b[0m \u001b[1;33m=\u001b[0m \u001b[0mmin_max\u001b[0m\u001b[1;33m(\u001b[0m\u001b[0mcdc_year_births\u001b[0m\u001b[1;33m)\u001b[0m\u001b[1;33m\u001b[0m\u001b[0m\n\u001b[0m\u001b[0;32m     19\u001b[0m \u001b[0mprint\u001b[0m\u001b[1;33m(\u001b[0m\u001b[0mmaxer\u001b[0m\u001b[1;33m)\u001b[0m\u001b[1;33m\u001b[0m\u001b[0m\n",
      "\u001b[1;32m<ipython-input-10-06e0c165fd31>\u001b[0m in \u001b[0;36mmin_max\u001b[1;34m(dict)\u001b[0m\n\u001b[0;32m      2\u001b[0m \u001b[1;33m\u001b[0m\u001b[0m\n\u001b[0;32m      3\u001b[0m \u001b[1;32mdef\u001b[0m \u001b[0mmin_max\u001b[0m\u001b[1;33m(\u001b[0m\u001b[0mdict\u001b[0m\u001b[1;33m)\u001b[0m\u001b[1;33m:\u001b[0m\u001b[1;33m\u001b[0m\u001b[0m\n\u001b[1;32m----> 4\u001b[1;33m     \u001b[0mval\u001b[0m \u001b[1;33m=\u001b[0m \u001b[1;33m{\u001b[0m\u001b[0mminn\u001b[0m\u001b[1;33m:\u001b[0m\u001b[0mINT_MAX\u001b[0m\u001b[1;33m,\u001b[0m\u001b[0mmaxx\u001b[0m\u001b[1;33m:\u001b[0m\u001b[1;36m0\u001b[0m\u001b[1;33m}\u001b[0m\u001b[1;33m\u001b[0m\u001b[0m\n\u001b[0m\u001b[0;32m      5\u001b[0m \u001b[1;33m\u001b[0m\u001b[0m\n\u001b[0;32m      6\u001b[0m \u001b[1;33m\u001b[0m\u001b[0m\n",
      "\u001b[1;31mNameError\u001b[0m: name 'minn' is not defined"
     ]
    }
   ],
   "source": [
    "#include <limits.h>\n",
    "\n",
    "def min_max(dict):\n",
    "    val = {minn:INT_MAX,maxx:0}\n",
    "    \n",
    "    \n",
    "    for i in dict:\n",
    "        value = dict[i]\n",
    "        if value < val[minn]:\n",
    "            val[minn] = value\n",
    "        elif value >val[maxx]:\n",
    "            val[maxx] = value\n",
    "        else:\n",
    "            continue\n",
    "        \n",
    "        return val\n",
    "            \n",
    "maxer = min_max(cdc_year_births)\n",
    "print(maxer)"
   ]
  },
  {
   "cell_type": "markdown",
   "metadata": {
    "collapsed": true
   },
   "source": [
    "## Function that compares births on a specific day or month for different years"
   ]
  },
  {
   "cell_type": "code",
   "execution_count": 24,
   "metadata": {},
   "outputs": [
    {
     "name": "stdout",
     "output_type": "stream",
     "text": [
      "Total Values Per Year \n",
      "\n",
      "{1994: 320705,\n",
      " 1995: 316013,\n",
      " 1996: 314283,\n",
      " 1997: 317211,\n",
      " 1998: 319340,\n",
      " 1999: 319182,\n",
      " 2000: 330108,\n",
      " 2001: 335198,\n",
      " 2002: 330674,\n",
      " 2003: 329803}\n",
      "\n",
      "\n",
      "Change in Births per Year \n",
      "\n",
      "{1995: -4692,\n",
      " 1996: -1730,\n",
      " 1997: 2928,\n",
      " 1998: 2129,\n",
      " 1999: -158,\n",
      " 2000: 10926,\n",
      " 2001: 5090,\n",
      " 2002: -4524,\n",
      " 2003: -871}\n"
     ]
    }
   ],
   "source": [
    "def compare(list,col,val):\n",
    "    initial_dict = {}\n",
    "    final_dict = {}\n",
    "    \n",
    "    for row in list:\n",
    "        if row[col] == val:\n",
    "            if row[0] in initial_dict:\n",
    "                initial_dict[row[0]] += row[4]\n",
    "            else: \n",
    "                initial_dict[row[0]] = row[4]\n",
    "    \n",
    "    print(\"Total Values Per Year \\n\")\n",
    "    pprint.pprint(initial_dict)\n",
    "    print(\"\\n\")\n",
    "    \n",
    "    keys = [*initial_dict]\n",
    "    \n",
    "    for index in range(len(initial_dict)-1):\n",
    "        final_dict[keys[index+1]] = initial_dict[keys[index+1]]- initial_dict[keys[index]]\n",
    "\n",
    "    print(\"Change in Births per Year \\n\")\n",
    "    pprint.pprint(final_dict)\n",
    "    \n",
    "    return final_dict\n",
    "\n",
    "compare_dict = compare(cdc_list,1,1)"
   ]
  },
  {
   "cell_type": "code",
   "execution_count": null,
   "metadata": {
    "collapsed": true
   },
   "outputs": [],
   "source": []
  }
 ],
 "metadata": {
  "anaconda-cloud": {},
  "kernelspec": {
   "display_name": "Python 3",
   "language": "python",
   "name": "python3"
  },
  "language_info": {
   "codemirror_mode": {
    "name": "ipython",
    "version": 3
   },
   "file_extension": ".py",
   "mimetype": "text/x-python",
   "name": "python",
   "nbconvert_exporter": "python",
   "pygments_lexer": "ipython3",
   "version": "3.6.3"
  }
 },
 "nbformat": 4,
 "nbformat_minor": 1
}
